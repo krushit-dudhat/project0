{
  "nbformat": 4,
  "nbformat_minor": 0,
  "metadata": {
    "colab": {
      "name": "learn1.ipynb",
      "provenance": [],
      "mount_file_id": "1xjE-bLIRVj34O6omXY6bdE6olQQD8-OE",
      "authorship_tag": "ABX9TyP/S7NZ3kjSBIVBl/NR4wQ9",
      "include_colab_link": true
    },
    "kernelspec": {
      "name": "python3",
      "display_name": "Python 3"
    },
    "language_info": {
      "name": "python"
    },
    "accelerator": "GPU"
  },
  "cells": [
    {
      "cell_type": "markdown",
      "metadata": {
        "id": "view-in-github",
        "colab_type": "text"
      },
      "source": [
        "<a href=\"https://colab.research.google.com/github/krushitdudhat/project0/blob/master/learn1.ipynb\" target=\"_parent\"><img src=\"https://colab.research.google.com/assets/colab-badge.svg\" alt=\"Open In Colab\"/></a>"
      ]
    },
    {
      "cell_type": "code",
      "metadata": {
        "colab": {
          "base_uri": "https://localhost:8080/"
        },
        "id": "W8NtQ8V3iY5s",
        "outputId": "afe61c32-ee3e-46e1-a18a-82764624da17"
      },
      "source": [
        "%tensorflow_version 2.x\n",
        "import tensorflow as tf\n",
        "\n",
        "#mit packages \n",
        "!pip install mitdeeplearning\n",
        "import mitdeeplearning as mdl\n",
        "\n",
        "import numpy as np\n",
        "import matplotlib.pyplot as plt\n"
      ],
      "execution_count": 2,
      "outputs": [
        {
          "output_type": "stream",
          "text": [
            "Collecting mitdeeplearning\n",
            "\u001b[?25l  Downloading https://files.pythonhosted.org/packages/9d/ad/650eb53c0d9d1213536fe94bc150f89b564ff5ee784bd662272584bb091b/mitdeeplearning-0.2.0.tar.gz (2.1MB)\n",
            "\u001b[K     |████████████████████████████████| 2.1MB 8.3MB/s \n",
            "\u001b[?25hRequirement already satisfied: numpy in /usr/local/lib/python3.7/dist-packages (from mitdeeplearning) (1.19.5)\n",
            "Requirement already satisfied: regex in /usr/local/lib/python3.7/dist-packages (from mitdeeplearning) (2019.12.20)\n",
            "Requirement already satisfied: tqdm in /usr/local/lib/python3.7/dist-packages (from mitdeeplearning) (4.41.1)\n",
            "Requirement already satisfied: gym in /usr/local/lib/python3.7/dist-packages (from mitdeeplearning) (0.17.3)\n",
            "Requirement already satisfied: cloudpickle<1.7.0,>=1.2.0 in /usr/local/lib/python3.7/dist-packages (from gym->mitdeeplearning) (1.3.0)\n",
            "Requirement already satisfied: scipy in /usr/local/lib/python3.7/dist-packages (from gym->mitdeeplearning) (1.4.1)\n",
            "Requirement already satisfied: pyglet<=1.5.0,>=1.4.0 in /usr/local/lib/python3.7/dist-packages (from gym->mitdeeplearning) (1.5.0)\n",
            "Requirement already satisfied: future in /usr/local/lib/python3.7/dist-packages (from pyglet<=1.5.0,>=1.4.0->gym->mitdeeplearning) (0.16.0)\n",
            "Building wheels for collected packages: mitdeeplearning\n",
            "  Building wheel for mitdeeplearning (setup.py) ... \u001b[?25l\u001b[?25hdone\n",
            "  Created wheel for mitdeeplearning: filename=mitdeeplearning-0.2.0-cp37-none-any.whl size=2115441 sha256=3ce7f37d99982bc7a6ce741d42e7bde9c321ddb5b1adf8bf27c96ecbd3b9c406\n",
            "  Stored in directory: /root/.cache/pip/wheels/af/dc/2a/5c3633135e7e4ef4fd31463cfa1942cb1bae7486ab94e7a2ad\n",
            "Successfully built mitdeeplearning\n",
            "Installing collected packages: mitdeeplearning\n",
            "Successfully installed mitdeeplearning-0.2.0\n"
          ],
          "name": "stdout"
        }
      ]
    },
    {
      "cell_type": "code",
      "metadata": {
        "colab": {
          "base_uri": "https://localhost:8080/"
        },
        "id": "248-I3mXlIqr",
        "outputId": "6f820713-d441-4859-fd90-607abb00e894"
      },
      "source": [
        "sport = tf.constant(\"tennis\", tf.string)\n",
        "number = tf.constant(1.41421356237, tf.float64)\n",
        "\n",
        "print(\"`sport` is a {}-d Tensor\".format(tf.rank(sport).numpy()))\n",
        "print(\"`number` is a {}-d Tensor\".format(tf.rank(number).numpy()))"
      ],
      "execution_count": 3,
      "outputs": [
        {
          "output_type": "stream",
          "text": [
            "`sport` is a 0-d Tensor\n",
            "`number` is a 0-d Tensor\n"
          ],
          "name": "stdout"
        }
      ]
    },
    {
      "cell_type": "code",
      "metadata": {
        "colab": {
          "base_uri": "https://localhost:8080/"
        },
        "id": "TUnLgh38sQVQ",
        "outputId": "716fe593-f416-4911-e671-12103e325b49"
      },
      "source": [
        "sports = tf.constant([\"tennis\", \"Basketball\"], tf.string)\n",
        "numbers = tf.constant([3.13345, 1.34562, 2.34562], tf.float64)\n",
        "\n",
        "print(\"`sports` is a {}-d Tensor with shape: {}\".format(tf.rank(sports).numpy(), tf.shape(sports)))\n",
        "print(\"`numbers` is a {}-d tensor with shape: {}\".format(tf.rank(numbers).numpy(), tf.shape(numbers)))\n"
      ],
      "execution_count": 4,
      "outputs": [
        {
          "output_type": "stream",
          "text": [
            "`sports` is a 1-d Tensor with shape: [2]\n",
            "`numbers` is a 1-d tensor with shape: [3]\n"
          ],
          "name": "stdout"
        }
      ]
    },
    {
      "cell_type": "code",
      "metadata": {
        "id": "N0cszrP_tN1w"
      },
      "source": [
        "matrix = tf.constant([[1,2,4], [5,3,6], [7.5,7.45, 23.54]], tf.float64)\n",
        "assert isinstance(matrix, tf.Tensor)\n",
        "assert tf.rank(matrix).numpy() == 2"
      ],
      "execution_count": 5,
      "outputs": []
    },
    {
      "cell_type": "code",
      "metadata": {
        "id": "VYtl01VluU3B"
      },
      "source": [
        "images = tf.constant(tf.zeros([10,256,256,3], tf.int32))\n",
        "\n",
        "assert isinstance(images, tf.Tensor)\n",
        "assert tf.rank(images).numpy() ==4\n",
        "assert tf.shape(images).numpy().tolist() == [10,256,256,3]"
      ],
      "execution_count": 6,
      "outputs": []
    },
    {
      "cell_type": "code",
      "metadata": {
        "colab": {
          "base_uri": "https://localhost:8080/"
        },
        "id": "TBC-CvRNsaYr",
        "outputId": "0109a4e0-5894-481a-cef2-daabd027a8cc"
      },
      "source": [
        "row_vector = matrix[1]\n",
        "column_vector = matrix[:,2]\n",
        "scalar = matrix[1,2]\n",
        "\n",
        "print(\"`row_vector` : {}\".format(row_vector.numpy()))\n",
        "print(\"`column_vector` : {}\".format(column_vector.numpy()))\n",
        "print(\"`scalar` : {} \".format(scalar.numpy()))\n"
      ],
      "execution_count": 7,
      "outputs": [
        {
          "output_type": "stream",
          "text": [
            "`row_vector` : [5. 3. 6.]\n",
            "`column_vector` : [ 4.    6.   23.54]\n",
            "`scalar` : 6.0 \n"
          ],
          "name": "stdout"
        }
      ]
    },
    {
      "cell_type": "code",
      "metadata": {
        "colab": {
          "base_uri": "https://localhost:8080/"
        },
        "id": "5A1XxE2TBXlE",
        "outputId": "3f824b2b-8063-4cbd-f4d9-32696d4a2a1a"
      },
      "source": [
        "#creating the node in graph and initializing value\n",
        "a = tf.constant(45)\n",
        "b = tf.constant(54)\n",
        "\n",
        "#add them\n",
        "c1 = tf.add(a,b)\n",
        "c2 = a + b\n",
        "print(c1)\n",
        "print(c2)"
      ],
      "execution_count": 8,
      "outputs": [
        {
          "output_type": "stream",
          "text": [
            "tf.Tensor(99, shape=(), dtype=int32)\n",
            "tf.Tensor(99, shape=(), dtype=int32)\n"
          ],
          "name": "stdout"
        }
      ]
    },
    {
      "cell_type": "code",
      "metadata": {
        "id": "5l5jSA0tCRGV"
      },
      "source": [
        "def func(a,b):\n",
        "  c = tf.add(a,b)\n",
        "  d = tf.subtract(b,1)\n",
        "  e = tf.multiply(c,d)\n",
        "  return e\n"
      ],
      "execution_count": 9,
      "outputs": []
    },
    {
      "cell_type": "code",
      "metadata": {
        "colab": {
          "base_uri": "https://localhost:8080/"
        },
        "id": "UdNlvonECO4I",
        "outputId": "8b0c5464-f070-4ccc-e30d-d1a6032bc38c"
      },
      "source": [
        "# a = tf.constant(1.5,tf.float64)\n",
        "# b = tf.constant(2.5, tf.float64)\n",
        "a, b = 1.5, 2.5\n",
        "#execute function\n",
        "e_out = func(a,b)\n",
        "print(e_out)"
      ],
      "execution_count": 10,
      "outputs": [
        {
          "output_type": "stream",
          "text": [
            "tf.Tensor(6.0, shape=(), dtype=float32)\n"
          ],
          "name": "stdout"
        }
      ]
    },
    {
      "cell_type": "markdown",
      "metadata": {
        "id": "3bPRFBzTIK0d"
      },
      "source": [
        "neural network in tensorflow"
      ]
    },
    {
      "cell_type": "code",
      "metadata": {
        "colab": {
          "base_uri": "https://localhost:8080/"
        },
        "id": "dKQWa-E7IPdW",
        "outputId": "c9916775-7128-4bac-f36f-8eb56cbc1d39"
      },
      "source": [
        "#defining a network layer \n",
        "\n",
        "#n_output_nodes: number of output nodes\n",
        "#input_shape : shape of the input\n",
        "#x: input to the layer\n",
        "\n",
        "class OurDenseLayer(tf.keras.layers.Layer):\n",
        "  def __init__(self, n_output_nodes):\n",
        "    super(OurDenseLayer, self).__init__()\n",
        "    self.n_output_nodes = n_output_nodes\n",
        "  \n",
        "  def build(self, input_shape):\n",
        "    d = int(input_shape[-1])\n",
        "    #define and intialize parameter : a weight w and bias b\n",
        "    #parameter initialization is random\n",
        "    self.w = self.add_weight(\"weight\", shape=[d, self.n_output_nodes])#note the dimentiality\n",
        "    self.b = self.add_weight(\"bias\", shape=[1, self.n_output_nodes])#note the dimentiality\n",
        "\n",
        "  def call(self, x):\n",
        "    #forword propagate the input\n",
        "    z = tf.matmul(x, self.w) + self.b\n",
        "    #feed throuth a non-linear activation\n",
        "    y = tf.math.sigmoid(z)\n",
        "    return y\n",
        "\n",
        "#layer parameter are inintialized randomly, we will set a reandom seed for reproducibility\n",
        "tf.random.set_seed(1)\n",
        "layer = OurDenseLayer(3)\n",
        "layer.build((1,2))\n",
        "x_input = tf.constant([[1,2.]], shape=(1,2))\n",
        "y = layer.call(x_input)\n",
        "\n",
        "#test the output\n",
        "print(y.numpy())\n",
        "mdl.lab1.test_custom_dense_layer_output(y)\n"
      ],
      "execution_count": 11,
      "outputs": [
        {
          "output_type": "stream",
          "text": [
            "[[0.2697859  0.45750412 0.66536945]]\n",
            "[PASS] test_custom_dense_layer_output\n"
          ],
          "name": "stdout"
        },
        {
          "output_type": "execute_result",
          "data": {
            "text/plain": [
              "True"
            ]
          },
          "metadata": {
            "tags": []
          },
          "execution_count": 11
        }
      ]
    },
    {
      "cell_type": "code",
      "metadata": {
        "id": "BE4E3atEDPnG"
      },
      "source": [
        "##defining  a neural network using the sequentioal API \n",
        "\n",
        "#Import packages\n",
        "from tensorflow.keras import Sequential\n",
        "from tensorflow.keras.layers import Dense\n",
        "\n",
        "#define the number of outputs\n",
        "n_output_nodes = 3\n",
        "\n",
        "#first define the model\n",
        "model = Sequential()\n",
        "\n",
        "dense_layer = Dense(n_output_nodes, use_bias=True , bias_initializer = 'zeros', activation='sigmoid')\n",
        "\n",
        "model.add(dense_layer)\n",
        "\n",
        "\n",
        "\n"
      ],
      "execution_count": 12,
      "outputs": []
    },
    {
      "cell_type": "code",
      "metadata": {
        "colab": {
          "base_uri": "https://localhost:8080/"
        },
        "id": "96vde3bEB_TT",
        "outputId": "322cf7ea-c0da-4acb-8f51-996c10fdd4ae"
      },
      "source": [
        "#test model with example input\n",
        "x_imput = tf.constant([[1,2.]], shape=(1,2))\n",
        "\n",
        "model_output = model.predict(x_input)\n",
        "print(model_output)"
      ],
      "execution_count": 13,
      "outputs": [
        {
          "output_type": "stream",
          "text": [
            "[[0.5607363 0.6566898 0.1249697]]\n"
          ],
          "name": "stdout"
        }
      ]
    },
    {
      "cell_type": "code",
      "metadata": {
        "id": "yDVp2dIIc_uK"
      },
      "source": [
        "## defining a model using subclassing \n",
        "\n",
        "from tensorflow.keras import Model\n",
        "from tensorflow.keras.layers import Dense\n",
        "\n",
        "class SubclassModel(tf.keras.Model):\n",
        "  def __init__(self, n_output_nodes):\n",
        "     super(SubclassModel, self).__init__()\n",
        "     self.dense_layer = Dense(n_output_nodes ,activation='sigmoid')\n",
        "  \n",
        "  def call(self, inputs):\n",
        "    return self.dense_layer(inputs)\n"
      ],
      "execution_count": 14,
      "outputs": []
    },
    {
      "cell_type": "code",
      "metadata": {
        "colab": {
          "base_uri": "https://localhost:8080/"
        },
        "id": "4V_ycBzyg0n9",
        "outputId": "a6c9dfde-9280-4a92-c541-ee000814b2ae"
      },
      "source": [
        "n_output_nodes = 3\n",
        "model = SubclassModel(n_output_nodes)\n",
        "\n",
        "x_imput = tf.constant([[1,2.]], shape = (1,2))\n",
        "\n",
        "print(model.call(x_input))"
      ],
      "execution_count": 15,
      "outputs": [
        {
          "output_type": "stream",
          "text": [
            "tf.Tensor([[0.6504887  0.47828162 0.8373661 ]], shape=(1, 3), dtype=float32)\n"
          ],
          "name": "stdout"
        }
      ]
    },
    {
      "cell_type": "code",
      "metadata": {
        "id": "zGcCM7fPh4MC"
      },
      "source": [
        "## defining a model using subclassing and specifing custom behavior\n",
        "\n",
        "from tensorflow.keras import Model\n",
        "from tensorflow.keras.layers import Dense\n",
        "\n",
        "class IdentityModel(tf.keras.Model):\n",
        "\n",
        "  #As before, in__init__ we define the model's layer\n",
        "  #\n",
        "  def __init__(self, n_output_nodes):\n",
        "    super(IdentityModel, self).__init__()\n",
        "    self.dense_layer = tf.keras.layers.Dense(n_output_nodes, activation = 'sigmoid')\n",
        "  \n",
        "  def call(self, inputs, isidentity = False):\n",
        "    x = self.dense_layer(inputs)\n",
        "    if isidentity:\n",
        "      return inputs\n",
        "    return x\n",
        "\n",
        "  "
      ],
      "execution_count": 16,
      "outputs": []
    },
    {
      "cell_type": "code",
      "metadata": {
        "colab": {
          "base_uri": "https://localhost:8080/"
        },
        "id": "4Oz54FnpUXGk",
        "outputId": "5c5755c6-d210-44e4-c56d-42d62e31378a"
      },
      "source": [
        "n_output_nodes = 3\n",
        "model = IdentityModel(n_output_nodes)\n",
        "\n",
        "x_input = tf.constant([[1, 2.]], shape= (1,2))\n",
        "\n",
        "out_activate = model.call(x_input)\n",
        "out_identity = model.call(x_input, isidentity = False)\n",
        "\n",
        "print(\"Networik output with activation: {}:] network identity output: {}\".format(out_activate.numpy(), out_identity.numpy()))"
      ],
      "execution_count": 17,
      "outputs": [
        {
          "output_type": "stream",
          "text": [
            "Networik output with activation: [[0.29996255 0.62776643 0.48460066]]:] network identity output: [[0.29996255 0.62776643 0.48460066]]\n"
          ],
          "name": "stdout"
        }
      ]
    },
    {
      "cell_type": "markdown",
      "metadata": {
        "id": "qPKMU9rZVu7c"
      },
      "source": [
        "automatic differentiation in tensorflow"
      ]
    },
    {
      "cell_type": "code",
      "metadata": {
        "id": "4cUUsPsFVf8J"
      },
      "source": [
        "## gradient computation with gradienttape\n",
        "\n",
        "#y = x^2\n",
        "# example : x = 3\n",
        "\n",
        "x = tf.Variable(3.0)\n",
        "\n",
        "#Initiate the gradient tape\n",
        "with tf.GradientTape() as tape:\n",
        "  #function\n",
        "  y = x * x\n",
        "#access the gradient //derivation of y with respect to x\n",
        "dy_dx = tape.gradient(y,x)\n",
        "\n",
        "assert dy_dx.numpy() == 6.0"
      ],
      "execution_count": 18,
      "outputs": []
    },
    {
      "cell_type": "code",
      "metadata": {
        "colab": {
          "base_uri": "https://localhost:8080/",
          "height": 314
        },
        "id": "JL4d_uhqa8jk",
        "outputId": "ce35d8fc-9129-4d83-d065-a94cb4e1a98d"
      },
      "source": [
        "## function minimization with automatic differentiation and SGD\n",
        "\n",
        "# Initialization a random value for initial x\n",
        "x = tf.Variable([tf.random.normal([1])])\n",
        "print(\"Initializing x={}\".format(x.numpy()))\n",
        "\n",
        "learning_rate = 1e-2 #learning rate for sgd\n",
        "history = []\n",
        "#define the target value\n",
        "x_f = 4\n",
        "\n",
        "#we will run sgd for a number of iteration at each iteration, we compute the loss,\n",
        "# compute the derivative of loss with respect to x, and perform the sgd update.\n",
        "\n",
        "for i in range(500):\n",
        "  with tf.GradientTape() as tape:\n",
        "    loss = (x - x_f)**2\n",
        "\n",
        "  #loss minimization using gradiant tape\n",
        "  grad = tape.gradient(loss, x)\n",
        "  new_x = x - learning_rate*grad\n",
        "  x.assign(new_x)\n",
        "  history.append(x.numpy()[0])\n",
        "\n",
        "#plot the evolutin of x as we optimize towards x_f1\n",
        "plt.plot(history)\n",
        "plt.plot([0,500],[x_f,x_f])\n",
        "plt.legend(('predicated', 'True'))\n",
        "plt.xlabel('Iteration')\n",
        "plt.ylabel('x value')\n"
      ],
      "execution_count": 24,
      "outputs": [
        {
          "output_type": "stream",
          "text": [
            "Initializing x=[[-0.3974985]]\n"
          ],
          "name": "stdout"
        },
        {
          "output_type": "execute_result",
          "data": {
            "text/plain": [
              "Text(0, 0.5, 'x value')"
            ]
          },
          "metadata": {
            "tags": []
          },
          "execution_count": 24
        },
        {
          "output_type": "display_data",
          "data": {
            "image/png": "[encoded data removed]",
            "text/plain": [
              "<Figure size 432x288 with 1 Axes>"
            ]
          },
          "metadata": {
            "tags": [],
            "needs_background": "light"
          }
        }
      ]
    },
    {
      "cell_type": "code",
      "metadata": {
        "id": "QwPS0eA2dQVw"
      },
      "source": [
        ""
      ],
      "execution_count": null,
      "outputs": []
    }
  ]
}